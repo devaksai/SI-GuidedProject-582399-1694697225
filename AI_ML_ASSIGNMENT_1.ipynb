{
  "nbformat": 4,
  "nbformat_minor": 0,
  "metadata": {
    "colab": {
      "provenance": []
    },
    "kernelspec": {
      "name": "python3",
      "display_name": "Python 3"
    },
    "language_info": {
      "name": "python"
    }
  },
  "cells": [
    {
      "cell_type": "markdown",
      "source": [
        "NumPy Exercises\n",
        "\n",
        "Now that we've learned about NumPy let's test your knowledge. We'll start off with a few simple tasks, and then you'll be asked some more complicated questions."
      ],
      "metadata": {
        "id": "5_CcNCvTbUVg"
      }
    },
    {
      "cell_type": "markdown",
      "source": [
        "# Import NumPy as np\n"
      ],
      "metadata": {
        "id": "RDA6rdOobudb"
      }
    },
    {
      "cell_type": "code",
      "source": [
        "# CH DEVAK(21BCE2940)\n",
        "import numpy as np\n"
      ],
      "metadata": {
        "id": "NhkJl7KIb_F2"
      },
      "execution_count": null,
      "outputs": []
    },
    {
      "cell_type": "markdown",
      "source": [
        "# Create an array of 10 zeros"
      ],
      "metadata": {
        "id": "yT8GWIy-cF4N"
      }
    },
    {
      "cell_type": "code",
      "source": [
        "ten_zeros_array = np.zeros(10)\n",
        "print(ten_zeros_array)\n"
      ],
      "metadata": {
        "colab": {
          "base_uri": "https://localhost:8080/"
        },
        "id": "1E45GP3ncJM2",
        "outputId": "1f8e340f-0b9a-4a76-e450-82e916d45c81"
      },
      "execution_count": null,
      "outputs": [
        {
          "output_type": "stream",
          "name": "stdout",
          "text": [
            "[0. 0. 0. 0. 0. 0. 0. 0. 0. 0.]\n"
          ]
        }
      ]
    },
    {
      "cell_type": "markdown",
      "source": [
        "# Create an array of 10 ones"
      ],
      "metadata": {
        "id": "c4muZgh5ccll"
      }
    },
    {
      "cell_type": "code",
      "source": [
        "ten_ones_array = np.ones(10)\n",
        "print(ten_ones_array)\n"
      ],
      "metadata": {
        "colab": {
          "base_uri": "https://localhost:8080/"
        },
        "id": "eWpzJjQzcflP",
        "outputId": "f294a866-49be-4838-b7cc-73163a415114"
      },
      "execution_count": null,
      "outputs": [
        {
          "output_type": "stream",
          "name": "stdout",
          "text": [
            "[1. 1. 1. 1. 1. 1. 1. 1. 1. 1.]\n"
          ]
        }
      ]
    },
    {
      "cell_type": "markdown",
      "source": [
        "# Create an array of 10 fives"
      ],
      "metadata": {
        "id": "dbu2u6Upc-70"
      }
    },
    {
      "cell_type": "code",
      "source": [
        "ten_ones_array = np.ones(10)\n",
        "ten_fives_array = 5 * ten_ones_array\n",
        "print(ten_fives_array)\n"
      ],
      "metadata": {
        "colab": {
          "base_uri": "https://localhost:8080/"
        },
        "id": "nnXPYtlEdIJj",
        "outputId": "76dfc3cb-6346-41e2-d8f2-1c30bb43eb19"
      },
      "execution_count": null,
      "outputs": [
        {
          "output_type": "stream",
          "name": "stdout",
          "text": [
            "[5. 5. 5. 5. 5. 5. 5. 5. 5. 5.]\n"
          ]
        }
      ]
    },
    {
      "cell_type": "markdown",
      "source": [
        "# Create an array of the integers from 10 to 50\n"
      ],
      "metadata": {
        "id": "v4KhiHldd2fv"
      }
    },
    {
      "cell_type": "code",
      "source": [
        "int_arr=np.arange(10,51)\n",
        "print(int_arr)"
      ],
      "metadata": {
        "colab": {
          "base_uri": "https://localhost:8080/"
        },
        "id": "Uxsgaadrd5uV",
        "outputId": "f4c4f8fa-6a91-4636-bc4d-01a2e6678a1a"
      },
      "execution_count": null,
      "outputs": [
        {
          "output_type": "stream",
          "name": "stdout",
          "text": [
            "[10 11 12 13 14 15 16 17 18 19 20 21 22 23 24 25 26 27 28 29 30 31 32 33\n",
            " 34 35 36 37 38 39 40 41 42 43 44 45 46 47 48 49 50]\n"
          ]
        }
      ]
    },
    {
      "cell_type": "markdown",
      "source": [
        "# Create an array of all the even integers from 10 to 50"
      ],
      "metadata": {
        "id": "X0OVde6rd_Vr"
      }
    },
    {
      "cell_type": "code",
      "source": [
        "evenint_arr=np.arange(10,51,2)\n",
        "print(evenint_arr)"
      ],
      "metadata": {
        "colab": {
          "base_uri": "https://localhost:8080/"
        },
        "id": "LCpLJ5CjeCJC",
        "outputId": "aff80ba2-e51f-4a15-cbf7-a89ca809cea9"
      },
      "execution_count": null,
      "outputs": [
        {
          "output_type": "stream",
          "name": "stdout",
          "text": [
            "[10 12 14 16 18 20 22 24 26 28 30 32 34 36 38 40 42 44 46 48 50]\n"
          ]
        }
      ]
    },
    {
      "cell_type": "markdown",
      "source": [
        "#### Create a 3x3 matrix with values ranging from 0 to 8"
      ],
      "metadata": {
        "id": "wxhZ1gGSeJwQ"
      }
    },
    {
      "cell_type": "code",
      "source": [
        "matrix=np.arange(9).reshape(3,3)\n",
        "matrix"
      ],
      "metadata": {
        "colab": {
          "base_uri": "https://localhost:8080/"
        },
        "id": "VhSXjMsreOh1",
        "outputId": "a3558690-6762-49fb-aece-412a26a7b947"
      },
      "execution_count": null,
      "outputs": [
        {
          "output_type": "execute_result",
          "data": {
            "text/plain": [
              "array([[0, 1, 2],\n",
              "       [3, 4, 5],\n",
              "       [6, 7, 8]])"
            ]
          },
          "metadata": {},
          "execution_count": 7
        }
      ]
    },
    {
      "cell_type": "markdown",
      "source": [
        "### Create a 3x3 identity matri"
      ],
      "metadata": {
        "id": "41vi2ic_ev4J"
      }
    },
    {
      "cell_type": "code",
      "source": [
        "iden_matrix=np.eye(3)\n",
        "print(iden_matrix)"
      ],
      "metadata": {
        "colab": {
          "base_uri": "https://localhost:8080/"
        },
        "id": "R5nxCK-lfB3A",
        "outputId": "4775bcfb-e02f-4c4d-b8de-a6c1531d36a8"
      },
      "execution_count": null,
      "outputs": [
        {
          "output_type": "stream",
          "name": "stdout",
          "text": [
            "[[1. 0. 0.]\n",
            " [0. 1. 0.]\n",
            " [0. 0. 1.]]\n"
          ]
        }
      ]
    },
    {
      "cell_type": "markdown",
      "source": [
        "# Use NumPy to generate a random number between 0 and 1"
      ],
      "metadata": {
        "id": "lqRAYbVbfJWm"
      }
    },
    {
      "cell_type": "code",
      "source": [
        "random_number = np.random.rand()\n",
        "print(random_number)\n"
      ],
      "metadata": {
        "colab": {
          "base_uri": "https://localhost:8080/"
        },
        "id": "JKS-0cBkfRtx",
        "outputId": "5bd2becc-4495-4720-d856-9c75e8af9f6d"
      },
      "execution_count": null,
      "outputs": [
        {
          "output_type": "stream",
          "name": "stdout",
          "text": [
            "0.023907744207952275\n"
          ]
        }
      ]
    },
    {
      "cell_type": "markdown",
      "source": [
        "# Use NumPy to generate an array of 25 random numbers sampled from a standard normal distribution\n",
        "\n"
      ],
      "metadata": {
        "id": "LQBxa9DZfctH"
      }
    },
    {
      "cell_type": "code",
      "source": [
        "random_numbers=np.random.randn(25)\n",
        "print(random_numbers)"
      ],
      "metadata": {
        "colab": {
          "base_uri": "https://localhost:8080/"
        },
        "id": "AtJBAo3ZgV5W",
        "outputId": "e7f8aea9-f433-4c5f-bcc8-6febd6e453e3"
      },
      "execution_count": null,
      "outputs": [
        {
          "output_type": "stream",
          "name": "stdout",
          "text": [
            "[-0.17696033 -1.04329672 -0.11682796 -0.24035229  0.23322279 -0.55327961\n",
            "  1.02493757 -0.2132488   1.40628015 -0.63445837 -0.47140685  1.29442426\n",
            " -0.01719431 -0.88716305 -0.69572371  2.06872808  1.2281531  -0.60449331\n",
            "  0.67303358 -1.90844089 -0.74115332 -1.43665949  0.26661242 -0.70381359\n",
            "  1.85760658]\n"
          ]
        }
      ]
    },
    {
      "cell_type": "markdown",
      "source": [
        "#### Create the following matrix:"
      ],
      "metadata": {
        "id": "eCzO760CgbWO"
      }
    },
    {
      "cell_type": "code",
      "source": [
        "matrix_1=np.arange(0.01,1.01,0.01).reshape(10,10)\n",
        "print(matrix_1)"
      ],
      "metadata": {
        "colab": {
          "base_uri": "https://localhost:8080/"
        },
        "id": "6EQBROtSgfdq",
        "outputId": "df8e00ee-b1f5-46b6-f27a-bd92e489ff53"
      },
      "execution_count": null,
      "outputs": [
        {
          "output_type": "stream",
          "name": "stdout",
          "text": [
            "[[0.01 0.02 0.03 0.04 0.05 0.06 0.07 0.08 0.09 0.1 ]\n",
            " [0.11 0.12 0.13 0.14 0.15 0.16 0.17 0.18 0.19 0.2 ]\n",
            " [0.21 0.22 0.23 0.24 0.25 0.26 0.27 0.28 0.29 0.3 ]\n",
            " [0.31 0.32 0.33 0.34 0.35 0.36 0.37 0.38 0.39 0.4 ]\n",
            " [0.41 0.42 0.43 0.44 0.45 0.46 0.47 0.48 0.49 0.5 ]\n",
            " [0.51 0.52 0.53 0.54 0.55 0.56 0.57 0.58 0.59 0.6 ]\n",
            " [0.61 0.62 0.63 0.64 0.65 0.66 0.67 0.68 0.69 0.7 ]\n",
            " [0.71 0.72 0.73 0.74 0.75 0.76 0.77 0.78 0.79 0.8 ]\n",
            " [0.81 0.82 0.83 0.84 0.85 0.86 0.87 0.88 0.89 0.9 ]\n",
            " [0.91 0.92 0.93 0.94 0.95 0.96 0.97 0.98 0.99 1.  ]]\n"
          ]
        }
      ]
    },
    {
      "cell_type": "markdown",
      "source": [
        "#### Create an array of 20 linearly spaced points between 0 and 1:"
      ],
      "metadata": {
        "id": "wognTk17gmgD"
      }
    },
    {
      "cell_type": "code",
      "source": [
        "points = np.linspace(0, 1, 20)#linear\n",
        "print(points)"
      ],
      "metadata": {
        "colab": {
          "base_uri": "https://localhost:8080/"
        },
        "id": "rghs7_epgzWz",
        "outputId": "b1569b0c-ac19-4045-fb24-bbdc310eaf6b"
      },
      "execution_count": null,
      "outputs": [
        {
          "output_type": "stream",
          "name": "stdout",
          "text": [
            "[0.         0.05263158 0.10526316 0.15789474 0.21052632 0.26315789\n",
            " 0.31578947 0.36842105 0.42105263 0.47368421 0.52631579 0.57894737\n",
            " 0.63157895 0.68421053 0.73684211 0.78947368 0.84210526 0.89473684\n",
            " 0.94736842 1.        ]\n"
          ]
        }
      ]
    },
    {
      "cell_type": "markdown",
      "source": [
        "## Numpy Indexing and Selection\n",
        "\n",
        "Now you will be given a few matrices, and be asked to replicate the resulting matrix outputs:"
      ],
      "metadata": {
        "id": "WUfE47Toi_yJ"
      }
    },
    {
      "cell_type": "markdown",
      "source": [],
      "metadata": {
        "id": "rfo6ZFFHhNS3"
      }
    },
    {
      "cell_type": "code",
      "source": [
        "matrix= np.arange(1,26).reshape(5,5)\n",
        "matrix"
      ],
      "metadata": {
        "colab": {
          "base_uri": "https://localhost:8080/"
        },
        "id": "fSLI9ITejM01",
        "outputId": "6e1f61cd-8dc8-4fde-bc49-fd240b21d3a4"
      },
      "execution_count": null,
      "outputs": [
        {
          "output_type": "execute_result",
          "data": {
            "text/plain": [
              "array([[ 1,  2,  3,  4,  5],\n",
              "       [ 6,  7,  8,  9, 10],\n",
              "       [11, 12, 13, 14, 15],\n",
              "       [16, 17, 18, 19, 20],\n",
              "       [21, 22, 23, 24, 25]])"
            ]
          },
          "metadata": {},
          "execution_count": 13
        }
      ]
    },
    {
      "cell_type": "code",
      "source": [
        "# WRITE CODE HERE THAT REPRODUCES THE OUTPUT OF THE CELL BELOW\n",
        "# BE CAREFUL NOT TO RUN THE CELL BELOW, OTHERWISE YOU WON'T\n",
        "# BE ABLE TO SEE THE OUTPUT ANY MORE"
      ],
      "metadata": {
        "id": "Rell5Sn6jd-0"
      },
      "execution_count": null,
      "outputs": []
    },
    {
      "cell_type": "code",
      "source": [
        "matrix[2:5,1:5]"
      ],
      "metadata": {
        "colab": {
          "base_uri": "https://localhost:8080/"
        },
        "id": "7t3gj1qbjfOA",
        "outputId": "6a6d6cfb-303c-4bf3-f5ec-1b45a4f8e042"
      },
      "execution_count": null,
      "outputs": [
        {
          "output_type": "execute_result",
          "data": {
            "text/plain": [
              "array([[12, 13, 14, 15],\n",
              "       [17, 18, 19, 20],\n",
              "       [22, 23, 24, 25]])"
            ]
          },
          "metadata": {},
          "execution_count": 15
        }
      ]
    },
    {
      "cell_type": "code",
      "source": [
        "# WRITE CODE HERE THAT REPRODUCES THE OUTPUT OF THE CELL BELOW\n",
        "# BE CAREFUL NOT TO RUN THE CELL BELOW, OTHERWISE YOU WON'T\n",
        "# BE ABLE TO SEE THE OUTPUT ANY MORE"
      ],
      "metadata": {
        "id": "6CxXMVHIjo9D"
      },
      "execution_count": null,
      "outputs": []
    },
    {
      "cell_type": "code",
      "source": [
        "matrix[3,4]"
      ],
      "metadata": {
        "colab": {
          "base_uri": "https://localhost:8080/"
        },
        "id": "_BBstczZjrpL",
        "outputId": "b207669b-acb8-41e8-a414-4b1065a63c6d"
      },
      "execution_count": null,
      "outputs": [
        {
          "output_type": "execute_result",
          "data": {
            "text/plain": [
              "20"
            ]
          },
          "metadata": {},
          "execution_count": 17
        }
      ]
    },
    {
      "cell_type": "code",
      "source": [
        "# WRITE CODE HERE THAT REPRODUCES THE OUTPUT OF THE CELL BELOW\n",
        "# BE CAREFUL NOT TO RUN THE CELL BELOW, OTHERWISE YOU WON'T\n",
        "# BE ABLE TO SEE THE OUTPUT ANY MORE"
      ],
      "metadata": {
        "id": "aYcw1noJjwb3"
      },
      "execution_count": null,
      "outputs": []
    },
    {
      "cell_type": "code",
      "source": [
        "matrix[0:3,1:2]"
      ],
      "metadata": {
        "colab": {
          "base_uri": "https://localhost:8080/"
        },
        "id": "BbsQyNpbj0Lm",
        "outputId": "af9130ed-3f53-4451-e60b-4f8fa488fc27"
      },
      "execution_count": null,
      "outputs": [
        {
          "output_type": "execute_result",
          "data": {
            "text/plain": [
              "array([[ 2],\n",
              "       [ 7],\n",
              "       [12]])"
            ]
          },
          "metadata": {},
          "execution_count": 19
        }
      ]
    },
    {
      "cell_type": "code",
      "source": [
        "# WRITE CODE HERE THAT REPRODUCES THE OUTPUT OF THE CELL BELOW\n",
        "# BE CAREFUL NOT TO RUN THE CELL BELOW, OTHERWISE YOU WON'T\n",
        "# BE ABLE TO SEE THE OUTPUT ANY MORE"
      ],
      "metadata": {
        "id": "yOM5TreFj4rf"
      },
      "execution_count": null,
      "outputs": []
    },
    {
      "cell_type": "code",
      "source": [
        "matrix[4:5,0:6]"
      ],
      "metadata": {
        "colab": {
          "base_uri": "https://localhost:8080/"
        },
        "id": "lyDScZhFj7zJ",
        "outputId": "6080824d-6bf0-480c-c219-93b0992550bc"
      },
      "execution_count": null,
      "outputs": [
        {
          "output_type": "execute_result",
          "data": {
            "text/plain": [
              "array([[21, 22, 23, 24, 25]])"
            ]
          },
          "metadata": {},
          "execution_count": 21
        }
      ]
    },
    {
      "cell_type": "code",
      "source": [
        "# WRITE CODE HERE THAT REPRODUCES THE OUTPUT OF THE CELL BELOW\n",
        "# BE CAREFUL NOT TO RUN THE CELL BELOW, OTHERWISE YOU WON'T\n",
        "# BE ABLE TO SEE THE OUTPUT ANY MORE"
      ],
      "metadata": {
        "id": "oxb_WN7QkBhl"
      },
      "execution_count": null,
      "outputs": []
    },
    {
      "cell_type": "code",
      "source": [
        "matrix[3:5,0:6]"
      ],
      "metadata": {
        "colab": {
          "base_uri": "https://localhost:8080/"
        },
        "id": "QBgZ3aMwkMo2",
        "outputId": "810bd5a9-be13-443f-cdd8-fb15105657f4"
      },
      "execution_count": null,
      "outputs": [
        {
          "output_type": "execute_result",
          "data": {
            "text/plain": [
              "array([[16, 17, 18, 19, 20],\n",
              "       [21, 22, 23, 24, 25]])"
            ]
          },
          "metadata": {},
          "execution_count": 23
        }
      ]
    },
    {
      "cell_type": "markdown",
      "source": [
        "# NOW DO THE FOLLOWING"
      ],
      "metadata": {
        "id": "rbdAGTkOkbYy"
      }
    },
    {
      "cell_type": "markdown",
      "source": [
        "# Get the sum of all the values in mat"
      ],
      "metadata": {
        "id": "bO5XmOAdkmLq"
      }
    },
    {
      "cell_type": "code",
      "source": [
        "print(matrix.sum())"
      ],
      "metadata": {
        "colab": {
          "base_uri": "https://localhost:8080/"
        },
        "id": "INHENm9Zkpvv",
        "outputId": "2297a4e2-2239-437e-efce-e869d0612c6c"
      },
      "execution_count": null,
      "outputs": [
        {
          "output_type": "stream",
          "name": "stdout",
          "text": [
            "325\n"
          ]
        }
      ]
    },
    {
      "cell_type": "markdown",
      "source": [
        "#### Get the standard deviation of the values in mat\n"
      ],
      "metadata": {
        "id": "DSlvYXrrk1Kr"
      }
    },
    {
      "cell_type": "code",
      "source": [
        "print(matrix.std())"
      ],
      "metadata": {
        "colab": {
          "base_uri": "https://localhost:8080/"
        },
        "id": "2_EjEkmgk5zm",
        "outputId": "e54a7722-48f0-48c8-ed00-10c3872fc743"
      },
      "execution_count": null,
      "outputs": [
        {
          "output_type": "stream",
          "name": "stdout",
          "text": [
            "7.211102550927978\n"
          ]
        }
      ]
    },
    {
      "cell_type": "markdown",
      "source": [
        "#### Get the sum of all the columns in mat"
      ],
      "metadata": {
        "id": "e2MdmTFplCnY"
      }
    },
    {
      "cell_type": "code",
      "source": [
        "print(matrix.sum(axis=0))"
      ],
      "metadata": {
        "colab": {
          "base_uri": "https://localhost:8080/"
        },
        "id": "5o9BYxKDlDQQ",
        "outputId": "0b14938b-bfd2-43ce-af4b-bf2d43a1a143"
      },
      "execution_count": null,
      "outputs": [
        {
          "output_type": "stream",
          "name": "stdout",
          "text": [
            "[55 60 65 70 75]\n"
          ]
        }
      ]
    }
  ]
}